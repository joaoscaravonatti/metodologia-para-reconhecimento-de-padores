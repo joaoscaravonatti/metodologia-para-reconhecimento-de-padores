{
  "nbformat": 4,
  "nbformat_minor": 0,
  "metadata": {
    "colab": {
      "name": "trabalho-2.ipynb",
      "provenance": [],
      "collapsed_sections": []
    },
    "kernelspec": {
      "name": "python3",
      "display_name": "Python 3"
    },
    "language_info": {
      "name": "python"
    }
  },
  "cells": [
    {
      "cell_type": "code",
      "metadata": {
        "id": "zOhnTy9vH7aM"
      },
      "source": [
        "!pip install fuzzy-c-means"
      ],
      "execution_count": null,
      "outputs": []
    },
    {
      "cell_type": "code",
      "metadata": {
        "id": "yZt6XFss206N"
      },
      "source": [
        "import pandas as pd\n",
        "import numpy as np\n",
        "import matplotlib.pyplot as plt\n",
        "import math\n",
        "from tabulate import tabulate\n",
        "from sklearn.cluster import KMeans, AffinityPropagation\n",
        "from sklearn.decomposition import PCA\n",
        "from sklearn.model_selection import train_test_split\n",
        "from sklearn.metrics import confusion_matrix, plot_confusion_matrix, silhouette_score\n",
        "from sklearn.discriminant_analysis import LinearDiscriminantAnalysis\n",
        "from fcmeans import FCM"
      ],
      "execution_count": null,
      "outputs": []
    },
    {
      "cell_type": "code",
      "metadata": {
        "colab": {
          "base_uri": "https://localhost:8080/"
        },
        "id": "jJq3eS_XZgk9",
        "outputId": "886876f2-b1af-4cec-a497-891c8eaa7ebd"
      },
      "source": [
        "from google.colab import drive\n",
        "drive.mount('/content/drive')"
      ],
      "execution_count": null,
      "outputs": [
        {
          "output_type": "stream",
          "name": "stdout",
          "text": [
            "Mounted at /content/drive\n"
          ]
        }
      ]
    },
    {
      "cell_type": "code",
      "metadata": {
        "id": "4_Z9JwWKP3OK"
      },
      "source": [
        "def get_dataset():\n",
        "  dataset = pd.read_csv('/content/drive/MyDrive/Datasets/fraud_detection_bank_dataset.csv')\n",
        "  return dataset"
      ],
      "execution_count": null,
      "outputs": []
    },
    {
      "cell_type": "code",
      "metadata": {
        "id": "pUn0DgVaZnqk"
      },
      "source": [
        "def normalize_data(data, norm):\n",
        "  if norm == 'min':\n",
        "    normalized = (data - data.min(axis=0)) / (data.max(axis=0) - data.min(axis=0))\n",
        "  elif norm == 'std':\n",
        "    normalized = ((data - np.mean(data, axis=0) ** 2) / np.std(data, axis=0, ddof=1) ** 2)\n",
        "  normalized = np.nan_to_num(normalized, 0)\n",
        "  return normalized"
      ],
      "execution_count": null,
      "outputs": []
    },
    {
      "cell_type": "code",
      "metadata": {
        "id": "mf1311sS564P"
      },
      "source": [
        "def fisher(g1, g2):\n",
        "  m1 = g1.mean()\n",
        "  m2 = g2.mean()\n",
        "  s1 = g1.std(ddof=1)\n",
        "  s2 = g2.std(ddof=1)\n",
        "  return (abs(m1 - m2) ** 2) / ((s1 ** 2) + (s2 ** 2))"
      ],
      "execution_count": null,
      "outputs": []
    },
    {
      "cell_type": "code",
      "metadata": {
        "id": "Nu8OkdTlOGYx"
      },
      "source": [
        "def plot_clustering(X, y_pred, centers):\n",
        "  plt.figure()\n",
        "\n",
        "  plt.scatter(centers[:, 0], centers[:, 1], c=\"red\", marker='*', s=150)\n",
        "  plt.scatter(X[:, 0], X[:, 1], c=y_pred)\n",
        "  plt.title(\"Dados associados aos clusters\")\n",
        "\n",
        "  plt.show()"
      ],
      "execution_count": null,
      "outputs": []
    },
    {
      "cell_type": "code",
      "metadata": {
        "id": "IpazlJNTi2Qb"
      },
      "source": [
        "def preprocess_data(dataset, norm):\n",
        "  X = dataset.iloc[:, 1:112]\n",
        "  y = dataset.iloc[:, 113]\n",
        "  return normalize_data(X.to_numpy(dtype='float'), norm), y.to_numpy(dtype='float')"
      ],
      "execution_count": null,
      "outputs": []
    },
    {
      "cell_type": "code",
      "metadata": {
        "id": "DkMmXPozw8V4"
      },
      "source": [
        "def evaluate(X, y, predictions, centers):\n",
        "  cm = confusion_matrix(y, predictions)\n",
        "  tn, fp, fn, tp = confusion_matrix(y, predictions).ravel()\n",
        "  acc = (tn + tp) / (tn + fp + fn + tp)\n",
        "  tpr = tp / (tp + fn)\n",
        "  tnr = tn / (tn + fp)\n",
        "  sc = silhouette_score(X, y)\n",
        "  fs = fisher(X[predictions == 0], X[predictions == 1])\n",
        "  return cm, acc, tpr, tnr, sc, fs"
      ],
      "execution_count": null,
      "outputs": []
    },
    {
      "cell_type": "code",
      "metadata": {
        "id": "Is-E6C696e0A"
      },
      "source": [
        "dataset = get_dataset()\n",
        "X, y = preprocess_data(dataset, 'min')"
      ],
      "execution_count": null,
      "outputs": []
    },
    {
      "cell_type": "code",
      "metadata": {
        "id": "cWrzWxCq8IT_"
      },
      "source": [
        "variances = [0.75, 0.9, 0.99]\n",
        "models = ['K-Means', 'Fuzzy C-Means']\n",
        "results = {i: {} for i in models}"
      ],
      "execution_count": null,
      "outputs": []
    },
    {
      "cell_type": "code",
      "metadata": {
        "id": "dU4bZ3Q1tn2E"
      },
      "source": [
        "for variance in variances:\n",
        "  model = KMeans(n_clusters=2, random_state=0, algorithm='elkan')\n",
        "  pca = PCA(n_components=variance, svd_solver='full')\n",
        "  new_data = pca.fit_transform(np.copy(X), y)\n",
        "  X_train, X_test, y_train, y_test = train_test_split(new_data, y, test_size=0.33, random_state=10)\n",
        "\n",
        "  model.fit(X_train)\n",
        "  predictions = model.predict(X_test)\n",
        "  centers = model.cluster_centers_\n",
        "  plot_clustering(X_test, predictions, centers)\n",
        "  cm, acc, tpr, tnr, sc, fs = evaluate(X_test, y_test, predictions, centers)\n",
        "  results['K-Means'].setdefault(variance, (pca.n_components_, cm, acc, tpr, tnr, sc, fs))"
      ],
      "execution_count": null,
      "outputs": []
    },
    {
      "cell_type": "code",
      "metadata": {
        "id": "q0MRCjEB8ifZ"
      },
      "source": [
        "for variance in variances:\n",
        "  model = FCM(n_clusters=2)\n",
        "  pca = PCA(n_components=variance, svd_solver='full')\n",
        "  new_data = pca.fit_transform(np.copy(X), y)\n",
        "  X_train, X_test, y_train, y_test = train_test_split(new_data, y, test_size=0.33, random_state=10)\n",
        "\n",
        "  model.fit(X_train)\n",
        "  predictions = model.predict(X_test)\n",
        "  centers = model.centers\n",
        "  plot_clustering(X_test, predictions, centers)\n",
        "  cm, acc, tpr, tnr, sc, fs = evaluate(X_test, y_test, predictions, centers)\n",
        "  results['Fuzzy C-Means'].setdefault(variance, (pca.n_components_, cm, acc, tpr, tnr, sc, fs))"
      ],
      "execution_count": null,
      "outputs": []
    },
    {
      "cell_type": "code",
      "metadata": {
        "id": "pscdRNgaXTRa",
        "colab": {
          "base_uri": "https://localhost:8080/"
        },
        "outputId": "570a9b6b-33e1-43f0-86b2-2314580bd8ee"
      },
      "source": [
        "headers = ['Modelo', 'Variância 75%', 'Variância 90%', 'Variância 99%']\n",
        "rows = []\n",
        "\n",
        "for model, values in results.items():\n",
        "  row = [model]\n",
        "  for variance in values.keys():\n",
        "    n_componentes, cm, acc, tpr, tnr, sc, fs = values[variance]\n",
        "    row.append('Nº Comp.: %s\\nACC: %.2f\\nTPR: %.2f\\nTNR: %.2f\\nSC: %.2f\\nCF: %.2f\\nCM:\\n%s' % (n_componentes, acc, tpr, tnr, sc, fs, cm))\n",
        "  rows.append(row)\n",
        "\n",
        "table = tabulate(rows, headers=headers, tablefmt='fancy_grid')\n",
        "print(table)"
      ],
      "execution_count": null,
      "outputs": [
        {
          "output_type": "stream",
          "name": "stdout",
          "text": [
            "╒═══════════════╤═════════════════╤═════════════════╤═════════════════╕\n",
            "│ Modelo        │ Variância 75%   │ Variância 90%   │ Variância 99%   │\n",
            "╞═══════════════╪═════════════════╪═════════════════╪═════════════════╡\n",
            "│ K-Means       │ Nº Comp.: 2     │ Nº Comp.: 4     │ Nº Comp.: 18    │\n",
            "│               │ ACC: 0.73       │ ACC: 0.73       │ ACC: 0.73       │\n",
            "│               │ TPR: 0.00       │ TPR: 0.00       │ TPR: 0.00       │\n",
            "│               │ TNR: 1.00       │ TNR: 1.00       │ TNR: 1.00       │\n",
            "│               │ SC: 0.25        │ SC: 0.11        │ SC: 0.34        │\n",
            "│               │ CF: nan         │ CF: nan         │ CF: nan         │\n",
            "│               │ CM:             │ CM:             │ CM:             │\n",
            "│               │ [[4933    0]    │ [[4933    0]    │ [[4933    0]    │\n",
            "│               │  [1822    0]]   │  [1822    0]]   │  [1822    0]]   │\n",
            "├───────────────┼─────────────────┼─────────────────┼─────────────────┤\n",
            "│ Fuzzy C-Means │ Nº Comp.: 2     │ Nº Comp.: 4     │ Nº Comp.: 18    │\n",
            "│               │ ACC: 0.73       │ ACC: 0.27       │ ACC: 0.74       │\n",
            "│               │ TPR: 0.00       │ TPR: 1.00       │ TPR: 0.11       │\n",
            "│               │ TNR: 1.00       │ TNR: 0.00       │ TNR: 0.97       │\n",
            "│               │ SC: 0.25        │ SC: 0.11        │ SC: 0.34        │\n",
            "│               │ CF: nan         │ CF: nan         │ CF: 0.01        │\n",
            "│               │ CM:             │ CM:             │ CM:             │\n",
            "│               │ [[4933    0]    │ [[   0 4933]    │ [[4779  154]    │\n",
            "│               │  [1822    0]]   │  [   0 1822]]   │  [1629  193]]   │\n",
            "╘═══════════════╧═════════════════╧═════════════════╧═════════════════╛\n"
          ]
        }
      ]
    }
  ]
}
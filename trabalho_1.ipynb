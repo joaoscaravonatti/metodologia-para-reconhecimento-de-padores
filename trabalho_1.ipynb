{
  "nbformat": 4,
  "nbformat_minor": 0,
  "metadata": {
    "colab": {
      "name": "trabalho-1.ipynb",
      "provenance": [],
      "collapsed_sections": []
    },
    "kernelspec": {
      "name": "python3",
      "display_name": "Python 3"
    },
    "language_info": {
      "name": "python"
    }
  },
  "cells": [
    {
      "cell_type": "code",
      "metadata": {
        "id": "yZt6XFss206N"
      },
      "source": [
        "import pandas as pd\n",
        "import numpy as np\n",
        "import math\n",
        "from tabulate import tabulate\n",
        "from sklearn.decomposition import PCA\n",
        "from sklearn.naive_bayes import GaussianNB\n",
        "from sklearn.svm import SVC\n",
        "from sklearn.tree import DecisionTreeClassifier\n",
        "from sklearn.model_selection import train_test_split\n",
        "from sklearn.metrics import confusion_matrix, plot_confusion_matrix"
      ],
      "execution_count": null,
      "outputs": []
    },
    {
      "cell_type": "code",
      "metadata": {
        "colab": {
          "base_uri": "https://localhost:8080/"
        },
        "id": "jJq3eS_XZgk9",
        "outputId": "911ab267-da5c-46e5-9bcd-65b5081676c2"
      },
      "source": [
        "from google.colab import drive\n",
        "drive.mount('/content/drive')"
      ],
      "execution_count": null,
      "outputs": [
        {
          "output_type": "stream",
          "name": "stdout",
          "text": [
            "Mounted at /content/drive\n"
          ]
        }
      ]
    },
    {
      "cell_type": "code",
      "metadata": {
        "id": "4_Z9JwWKP3OK"
      },
      "source": [
        "def get_dataset():\n",
        "  dataset = pd.read_csv('/content/drive/MyDrive/Datasets/fraud_detection_bank_dataset.csv')\n",
        "  return dataset"
      ],
      "execution_count": null,
      "outputs": []
    },
    {
      "cell_type": "code",
      "metadata": {
        "id": "pUn0DgVaZnqk"
      },
      "source": [
        "def normalize_data(data, norm='std'):\n",
        "  if norm == 'min':\n",
        "    normalized = (data - data.min(axis=0)) / (data.max(axis=0) - data.min(axis=0))\n",
        "  elif norm == 'std':\n",
        "    normalized = ((data - np.mean(data, axis=0)) / np.std(data, axis=0))\n",
        "  normalized = np.nan_to_num(normalized, 0)\n",
        "  return normalized"
      ],
      "execution_count": null,
      "outputs": []
    },
    {
      "cell_type": "code",
      "metadata": {
        "id": "IpazlJNTi2Qb"
      },
      "source": [
        "def preprocess_data(dataset):\n",
        "  X = dataset.iloc[:, 1:112]\n",
        "  y = dataset.iloc[:, 113]\n",
        "  return normalize_data(X.to_numpy(dtype='float'), norm='min'), y.to_numpy(dtype='float')"
      ],
      "execution_count": null,
      "outputs": []
    },
    {
      "cell_type": "code",
      "metadata": {
        "id": "DkMmXPozw8V4"
      },
      "source": [
        "def evaluate(y, predictions):\n",
        "  cm = confusion_matrix(y, predictions)\n",
        "  tn, fp, fn, tp = confusion_matrix(y, predictions).ravel()\n",
        "  acc = (tn + tp) / (tn + fp + fn +tp)\n",
        "  tpr = tp / (tp + fn)\n",
        "  tnr = tn / (tn + fp)\n",
        "  return cm, acc, tpr, tnr"
      ],
      "execution_count": null,
      "outputs": []
    },
    {
      "cell_type": "code",
      "metadata": {
        "id": "Is-E6C696e0A"
      },
      "source": [
        "dataset = get_dataset()\n",
        "dataset"
      ],
      "execution_count": null,
      "outputs": []
    },
    {
      "cell_type": "code",
      "metadata": {
        "id": "dU4bZ3Q1tn2E",
        "colab": {
          "base_uri": "https://localhost:8080/"
        },
        "outputId": "2f44a392-d84d-464d-ed6f-5866dd27cc9d"
      },
      "source": [
        "\n",
        "X, y = preprocess_data(dataset)\n",
        "\n",
        "variances = [0.75, 0.9, 0.99]\n",
        "models = [\n",
        "          ('Naive Bayes', GaussianNB()),\n",
        "          ('SVM Linear', SVC(kernel='linear')),\n",
        "          ('SVM RBF', SVC(kernel='rbf')),\n",
        "          ('C4.5', DecisionTreeClassifier())\n",
        "          ]\n",
        "\n",
        "results = {i: {} for i, j in models}\n",
        "\n",
        "for i in models:\n",
        "  for variance in variances:\n",
        "    pca = PCA(n_components=variance, svd_solver='full')\n",
        "    new_data = pca.fit_transform(np.copy(X), y)\n",
        "    X_train, X_test, y_train, y_test = train_test_split(new_data, y, test_size=0.33, random_state=10)\n",
        "    name, model = i\n",
        "    model.fit(X_train, y_train)\n",
        "    predictions = model.predict(X_test)\n",
        "    cm, acc, tpr, tnr = evaluate(y_test, predictions)\n",
        "    results[name].setdefault(variance, (pca.n_components_, cm, acc, tpr, tnr))"
      ],
      "execution_count": null,
      "outputs": [
        {
          "output_type": "stream",
          "name": "stderr",
          "text": [
            "/usr/local/lib/python3.7/dist-packages/ipykernel_launcher.py:3: RuntimeWarning: invalid value encountered in true_divide\n",
            "  This is separate from the ipykernel package so we can avoid doing imports until\n"
          ]
        }
      ]
    },
    {
      "cell_type": "code",
      "metadata": {
        "colab": {
          "base_uri": "https://localhost:8080/"
        },
        "id": "pscdRNgaXTRa",
        "outputId": "0c3e645a-e76b-48c6-93d2-205f34bc7ad6"
      },
      "source": [
        "headers = ['Modelo', 'Variância 75%', 'Variância 95%', 'Variância 99%']\n",
        "rows = []\n",
        "\n",
        "for model, values in results.items():\n",
        "  row = [model]\n",
        "  for variance in values.keys():\n",
        "    n_componentes, cm, acc, tpr, tnr = values[variance]\n",
        "    row.append('Nº Comp.: %s\\nACC: %.2f\\nTPR: %.2f\\nTNR: %.2f\\nCM:\\n%s' % (n_componentes, acc, tpr, tnr, cm))\n",
        "  rows.append(row)\n",
        "\n",
        "table = tabulate(rows, headers=headers, tablefmt='fancy_grid')\n",
        "print(table)"
      ],
      "execution_count": null,
      "outputs": [
        {
          "output_type": "stream",
          "name": "stdout",
          "text": [
            "╒═════════════╤═════════════════╤═════════════════╤═════════════════╕\n",
            "│ Modelo      │ Variância 75%   │ Variância 95%   │ Variância 99%   │\n",
            "╞═════════════╪═════════════════╪═════════════════╪═════════════════╡\n",
            "│ Naive Bayes │ Nº Comp.: 11    │ Nº Comp.: 18    │ Nº Comp.: 34    │\n",
            "│             │ ACC: 0.83       │ ACC: 0.81       │ ACC: 0.83       │\n",
            "│             │ TPR: 0.52       │ TPR: 0.55       │ TPR: 0.57       │\n",
            "│             │ TNR: 0.95       │ TNR: 0.91       │ TNR: 0.92       │\n",
            "│             │ CM:             │ CM:             │ CM:             │\n",
            "│             │ [[4663  270]    │ [[4467  466]    │ [[4554  379]    │\n",
            "│             │  [ 881  941]]   │  [ 813 1009]]   │  [ 782 1040]]   │\n",
            "├─────────────┼─────────────────┼─────────────────┼─────────────────┤\n",
            "│ SVM Linear  │ Nº Comp.: 11    │ Nº Comp.: 18    │ Nº Comp.: 34    │\n",
            "│             │ ACC: 0.83       │ ACC: 0.85       │ ACC: 0.85       │\n",
            "│             │ TPR: 0.46       │ TPR: 0.48       │ TPR: 0.49       │\n",
            "│             │ TNR: 0.97       │ TNR: 0.98       │ TNR: 0.98       │\n",
            "│             │ CM:             │ CM:             │ CM:             │\n",
            "│             │ [[4807  126]    │ [[4858   75]    │ [[4859   74]    │\n",
            "│             │  [ 990  832]]   │  [ 940  882]]   │  [ 932  890]]   │\n",
            "├─────────────┼─────────────────┼─────────────────┼─────────────────┤\n",
            "│ SVM RBF     │ Nº Comp.: 11    │ Nº Comp.: 18    │ Nº Comp.: 34    │\n",
            "│             │ ACC: 0.85       │ ACC: 0.86       │ ACC: 0.87       │\n",
            "│             │ TPR: 0.49       │ TPR: 0.51       │ TPR: 0.55       │\n",
            "│             │ TNR: 0.98       │ TNR: 0.98       │ TNR: 0.98       │\n",
            "│             │ CM:             │ CM:             │ CM:             │\n",
            "│             │ [[4826  107]    │ [[4855   78]    │ [[4845   88]    │\n",
            "│             │  [ 935  887]]   │  [ 890  932]]   │  [ 816 1006]]   │\n",
            "├─────────────┼─────────────────┼─────────────────┼─────────────────┤\n",
            "│ C4.5        │ Nº Comp.: 11    │ Nº Comp.: 18    │ Nº Comp.: 34    │\n",
            "│             │ ACC: 0.87       │ ACC: 0.88       │ ACC: 0.87       │\n",
            "│             │ TPR: 0.76       │ TPR: 0.77       │ TPR: 0.78       │\n",
            "│             │ TNR: 0.91       │ TNR: 0.92       │ TNR: 0.91       │\n",
            "│             │ CM:             │ CM:             │ CM:             │\n",
            "│             │ [[4475  458]    │ [[4522  411]    │ [[4487  446]    │\n",
            "│             │  [ 437 1385]]   │  [ 425 1397]]   │  [ 408 1414]]   │\n",
            "╘═════════════╧═════════════════╧═════════════════╧═════════════════╛\n"
          ]
        }
      ]
    }
  ]
}